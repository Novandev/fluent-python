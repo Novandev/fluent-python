{
 "cells": [
  {
   "cell_type": "code",
   "execution_count": null,
   "metadata": {},
   "outputs": [],
   "source": [
    "# based on the frnech deck, lets make a task producer\n",
    "import collections\n",
    "import random  \n",
    "\n",
    "Task = collections.namedtuple('Task', ['task','steps','duration'])\n",
    "\n",
    "class TaskProducer:\n",
    "    task_list = 'study workout act-up practice'.split()\n",
    "    steps = [n for n in range(5)]\n",
    "    duration = [30, 45, 60, 90]\n",
    "\n",
    "    def __init__(self, num_task):\n",
    "        self._tasks = [Task(random.choice(self.task_list),random.choice(self.steps),random.choice(self.duration)) for task in range(num_task)]\n",
    "\n",
    "    def __len__(self): # this reutrns the lenth of the self defined tasks above\n",
    "        return len(self._tasks)\n",
    "\n",
    "    def __getitem__(self, position): # this allows subscription and lets you do indexing\n",
    "        return self._tasks[position]\n"
   ]
  },
  {
   "cell_type": "code",
   "execution_count": 21,
   "metadata": {},
   "outputs": [],
   "source": [
    "new_tasks = TaskProducer(5)"
   ]
  },
  {
   "cell_type": "code",
   "execution_count": 22,
   "metadata": {},
   "outputs": [
    {
     "data": {
      "text/plain": [
       "5"
      ]
     },
     "execution_count": 22,
     "metadata": {},
     "output_type": "execute_result"
    }
   ],
   "source": [
    "len(new_tasks)"
   ]
  }
 ],
 "metadata": {
  "kernelspec": {
   "display_name": "python-finance",
   "language": "python",
   "name": "python3"
  },
  "language_info": {
   "codemirror_mode": {
    "name": "ipython",
    "version": 3
   },
   "file_extension": ".py",
   "mimetype": "text/x-python",
   "name": "python",
   "nbconvert_exporter": "python",
   "pygments_lexer": "ipython3",
   "version": "3.7.12"
  }
 },
 "nbformat": 4,
 "nbformat_minor": 2
}
